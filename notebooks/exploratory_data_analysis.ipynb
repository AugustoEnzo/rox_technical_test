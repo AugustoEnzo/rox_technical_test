{
 "cells": [
  {
   "cell_type": "code",
   "execution_count": 1,
   "id": "b60bb4dd-8750-4a6f-824e-59b14f5894c0",
   "metadata": {},
   "outputs": [],
   "source": [
    "# import and set alias name for our dependencies\n",
    "import pandas as pd\n",
    "import seaborn as sns\n",
    "import matplotlib.pyplot as plt"
   ]
  },
  {
   "cell_type": "code",
   "execution_count": 4,
   "id": "846e58d7-2228-4d3f-969a-dd17b51301f0",
   "metadata": {
    "collapsed": true,
    "jupyter": {
     "outputs_hidden": true
    }
   },
   "outputs": [
    {
     "ename": "FileNotFoundError",
     "evalue": "[Errno 2] No such file or directory: 'datasets/sales_data.xlsx'",
     "output_type": "error",
     "traceback": [
      "\u001b[0;31m---------------------------------------------------------------------------\u001b[0m",
      "\u001b[0;31mFileNotFoundError\u001b[0m                         Traceback (most recent call last)",
      "Cell \u001b[0;32mIn[4], line 2\u001b[0m\n\u001b[1;32m      1\u001b[0m \u001b[38;5;66;03m# import sales data to a pandas dataframe\u001b[39;00m\n\u001b[0;32m----> 2\u001b[0m sales_df \u001b[38;5;241m=\u001b[39m pd\u001b[38;5;241m.\u001b[39mread_excel(\u001b[38;5;124m\"\u001b[39m\u001b[38;5;124mdatasets/sales_data.xlsx\u001b[39m\u001b[38;5;124m\"\u001b[39m)\n",
      "File \u001b[0;32m~/anaconda3/lib/python3.11/site-packages/pandas/io/excel/_base.py:504\u001b[0m, in \u001b[0;36mread_excel\u001b[0;34m(io, sheet_name, header, names, index_col, usecols, dtype, engine, converters, true_values, false_values, skiprows, nrows, na_values, keep_default_na, na_filter, verbose, parse_dates, date_parser, date_format, thousands, decimal, comment, skipfooter, storage_options, dtype_backend, engine_kwargs)\u001b[0m\n\u001b[1;32m    502\u001b[0m \u001b[38;5;28;01mif\u001b[39;00m \u001b[38;5;129;01mnot\u001b[39;00m \u001b[38;5;28misinstance\u001b[39m(io, ExcelFile):\n\u001b[1;32m    503\u001b[0m     should_close \u001b[38;5;241m=\u001b[39m \u001b[38;5;28;01mTrue\u001b[39;00m\n\u001b[0;32m--> 504\u001b[0m     io \u001b[38;5;241m=\u001b[39m ExcelFile(\n\u001b[1;32m    505\u001b[0m         io,\n\u001b[1;32m    506\u001b[0m         storage_options\u001b[38;5;241m=\u001b[39mstorage_options,\n\u001b[1;32m    507\u001b[0m         engine\u001b[38;5;241m=\u001b[39mengine,\n\u001b[1;32m    508\u001b[0m         engine_kwargs\u001b[38;5;241m=\u001b[39mengine_kwargs,\n\u001b[1;32m    509\u001b[0m     )\n\u001b[1;32m    510\u001b[0m \u001b[38;5;28;01melif\u001b[39;00m engine \u001b[38;5;129;01mand\u001b[39;00m engine \u001b[38;5;241m!=\u001b[39m io\u001b[38;5;241m.\u001b[39mengine:\n\u001b[1;32m    511\u001b[0m     \u001b[38;5;28;01mraise\u001b[39;00m \u001b[38;5;167;01mValueError\u001b[39;00m(\n\u001b[1;32m    512\u001b[0m         \u001b[38;5;124m\"\u001b[39m\u001b[38;5;124mEngine should not be specified when passing \u001b[39m\u001b[38;5;124m\"\u001b[39m\n\u001b[1;32m    513\u001b[0m         \u001b[38;5;124m\"\u001b[39m\u001b[38;5;124man ExcelFile - ExcelFile already has the engine set\u001b[39m\u001b[38;5;124m\"\u001b[39m\n\u001b[1;32m    514\u001b[0m     )\n",
      "File \u001b[0;32m~/anaconda3/lib/python3.11/site-packages/pandas/io/excel/_base.py:1563\u001b[0m, in \u001b[0;36mExcelFile.__init__\u001b[0;34m(self, path_or_buffer, engine, storage_options, engine_kwargs)\u001b[0m\n\u001b[1;32m   1561\u001b[0m     ext \u001b[38;5;241m=\u001b[39m \u001b[38;5;124m\"\u001b[39m\u001b[38;5;124mxls\u001b[39m\u001b[38;5;124m\"\u001b[39m\n\u001b[1;32m   1562\u001b[0m \u001b[38;5;28;01melse\u001b[39;00m:\n\u001b[0;32m-> 1563\u001b[0m     ext \u001b[38;5;241m=\u001b[39m inspect_excel_format(\n\u001b[1;32m   1564\u001b[0m         content_or_path\u001b[38;5;241m=\u001b[39mpath_or_buffer, storage_options\u001b[38;5;241m=\u001b[39mstorage_options\n\u001b[1;32m   1565\u001b[0m     )\n\u001b[1;32m   1566\u001b[0m     \u001b[38;5;28;01mif\u001b[39;00m ext \u001b[38;5;129;01mis\u001b[39;00m \u001b[38;5;28;01mNone\u001b[39;00m:\n\u001b[1;32m   1567\u001b[0m         \u001b[38;5;28;01mraise\u001b[39;00m \u001b[38;5;167;01mValueError\u001b[39;00m(\n\u001b[1;32m   1568\u001b[0m             \u001b[38;5;124m\"\u001b[39m\u001b[38;5;124mExcel file format cannot be determined, you must specify \u001b[39m\u001b[38;5;124m\"\u001b[39m\n\u001b[1;32m   1569\u001b[0m             \u001b[38;5;124m\"\u001b[39m\u001b[38;5;124man engine manually.\u001b[39m\u001b[38;5;124m\"\u001b[39m\n\u001b[1;32m   1570\u001b[0m         )\n",
      "File \u001b[0;32m~/anaconda3/lib/python3.11/site-packages/pandas/io/excel/_base.py:1419\u001b[0m, in \u001b[0;36minspect_excel_format\u001b[0;34m(content_or_path, storage_options)\u001b[0m\n\u001b[1;32m   1416\u001b[0m \u001b[38;5;28;01mif\u001b[39;00m \u001b[38;5;28misinstance\u001b[39m(content_or_path, \u001b[38;5;28mbytes\u001b[39m):\n\u001b[1;32m   1417\u001b[0m     content_or_path \u001b[38;5;241m=\u001b[39m BytesIO(content_or_path)\n\u001b[0;32m-> 1419\u001b[0m \u001b[38;5;28;01mwith\u001b[39;00m get_handle(\n\u001b[1;32m   1420\u001b[0m     content_or_path, \u001b[38;5;124m\"\u001b[39m\u001b[38;5;124mrb\u001b[39m\u001b[38;5;124m\"\u001b[39m, storage_options\u001b[38;5;241m=\u001b[39mstorage_options, is_text\u001b[38;5;241m=\u001b[39m\u001b[38;5;28;01mFalse\u001b[39;00m\n\u001b[1;32m   1421\u001b[0m ) \u001b[38;5;28;01mas\u001b[39;00m handle:\n\u001b[1;32m   1422\u001b[0m     stream \u001b[38;5;241m=\u001b[39m handle\u001b[38;5;241m.\u001b[39mhandle\n\u001b[1;32m   1423\u001b[0m     stream\u001b[38;5;241m.\u001b[39mseek(\u001b[38;5;241m0\u001b[39m)\n",
      "File \u001b[0;32m~/anaconda3/lib/python3.11/site-packages/pandas/io/common.py:872\u001b[0m, in \u001b[0;36mget_handle\u001b[0;34m(path_or_buf, mode, encoding, compression, memory_map, is_text, errors, storage_options)\u001b[0m\n\u001b[1;32m    863\u001b[0m         handle \u001b[38;5;241m=\u001b[39m \u001b[38;5;28mopen\u001b[39m(\n\u001b[1;32m    864\u001b[0m             handle,\n\u001b[1;32m    865\u001b[0m             ioargs\u001b[38;5;241m.\u001b[39mmode,\n\u001b[0;32m   (...)\u001b[0m\n\u001b[1;32m    868\u001b[0m             newline\u001b[38;5;241m=\u001b[39m\u001b[38;5;124m\"\u001b[39m\u001b[38;5;124m\"\u001b[39m,\n\u001b[1;32m    869\u001b[0m         )\n\u001b[1;32m    870\u001b[0m     \u001b[38;5;28;01melse\u001b[39;00m:\n\u001b[1;32m    871\u001b[0m         \u001b[38;5;66;03m# Binary mode\u001b[39;00m\n\u001b[0;32m--> 872\u001b[0m         handle \u001b[38;5;241m=\u001b[39m \u001b[38;5;28mopen\u001b[39m(handle, ioargs\u001b[38;5;241m.\u001b[39mmode)\n\u001b[1;32m    873\u001b[0m     handles\u001b[38;5;241m.\u001b[39mappend(handle)\n\u001b[1;32m    875\u001b[0m \u001b[38;5;66;03m# Convert BytesIO or file objects passed with an encoding\u001b[39;00m\n",
      "\u001b[0;31mFileNotFoundError\u001b[0m: [Errno 2] No such file or directory: 'datasets/sales_data.xlsx'"
     ]
    }
   ],
   "source": [
    "# import sales data to a pandas dataframe\n",
    "sales_df = pd.read_excel(\"datasets/sales_data.xlsx\")"
   ]
  },
  {
   "cell_type": "code",
   "execution_count": null,
   "id": "efd78694-601d-4497-9dc4-940ceceb5338",
   "metadata": {},
   "outputs": [],
   "source": [
    "# sales df exploratory data analysis\n",
    "print(\"Distribution of null values between the attributes for sales df:\")\n",
    "print(sales_df.isnull().sum())\n",
    "print(\"\\n\")\n",
    "\n",
    "\"\"\"\n",
    "With the distribution of null values we could notice that there are none null values in the sales dataframe\n",
    "\"\"\""
   ]
  },
  {
   "cell_type": "code",
   "execution_count": null,
   "id": "89655a1d-854b-4fa4-a577-c15159f18974",
   "metadata": {},
   "outputs": [],
   "source": [
    "\n",
    "print(\"Distribution of unique values between attributes of sales df:\")\n",
    "print(sales_df.nunique())\n",
    "print(\"\\n\")\n",
    "\n",
    "\"\"\"\n",
    "With the distribution of unique values we could notice that there are 4 products that'd been sold to 72 clients.\n",
    "With 4 quantities and 4 prices, along 100 distinct days\n",
    "\"\"\""
   ]
  },
  {
   "cell_type": "code",
   "execution_count": null,
   "id": "fa2d7a3f-d5ab-4608-92ef-a0d2a17cb2e1",
   "metadata": {},
   "outputs": [],
   "source": [
    "# creating a specific dataframe to see sales attributes correlation\n",
    "correlation_sales_df = sales_df[[\"quantity\", \"unit_price\", \"client_id\", \"order_date\"]]"
   ]
  },
  {
   "cell_type": "code",
   "execution_count": null,
   "id": "d60ab116-5fa1-449f-9dcc-d6b215356d08",
   "metadata": {},
   "outputs": [],
   "source": [
    "# correlation matrix for sales df\n",
    "correlation_matrix = correlation_sales_df.corr()"
   ]
  },
  {
   "cell_type": "code",
   "execution_count": null,
   "id": "6f1862b6-6b5d-422c-bd9c-37133f06297f",
   "metadata": {},
   "outputs": [],
   "source": [
    "# plot correlation heatmap for sales df\n",
    "plt.figure(figsize=(11, 7))\n",
    "sns.heatmap(correlation_matrix, annot=True)\n",
    "plt.show()\n",
    "\n",
    "\"\"\"\n",
    "With the correlation heatmap we could see that none of the fields have a strong correlation with each other, basically\n",
    "\"\"\""
   ]
  },
  {
   "cell_type": "code",
   "execution_count": null,
   "id": "f7318f8d-8f94-47a2-b5b8-516d29f6e689",
   "metadata": {},
   "outputs": [],
   "source": [
    "# create a new sales dataframe to calculate sales and quantity sold by products\n",
    "sales_per_product_df = sales_df[[\"product_name\", \"quantity\"]]\n",
    "sales_per_product_df[\"sales\"] = sales_df.quantity * sales_df.unit_price"
   ]
  },
  {
   "cell_type": "code",
   "execution_count": null,
   "id": "dd2ec938-cca7-48da-b0f2-6c9935f75442",
   "metadata": {},
   "outputs": [],
   "source": [
    "# Group sales by products\n",
    "print(\"Sales by product:\")\n",
    "print(sales_per_product_df.groupby(\"product_name\").sum())\n",
    "print(\"\\n\")\n",
    "\n",
    "\"\"\"\n",
    "With the df grouped by products we could notice that the product with more aggregated value is product D, with less quantity,\n",
    "sold more than any other product. Representing 31.9 % of all sold volume.\n",
    "\"\"\""
   ]
  },
  {
   "cell_type": "code",
   "execution_count": null,
   "id": "fb922788-7ecc-48be-a5f0-68ca32d3c5f7",
   "metadata": {},
   "outputs": [],
   "source": [
    "# create a new sales dataframe to calculate sales and quantity sold by clients\n",
    "sales_per_client_df = sales_df[[\"client_id\", \"quantity\"]]\n",
    "sales_per_client_df[\"sales\"] = sales_df.quantity * sales_df.unit_price"
   ]
  },
  {
   "cell_type": "code",
   "execution_count": null,
   "id": "f44fd609-d3ee-459e-af69-b8a4aaf7cd50",
   "metadata": {},
   "outputs": [],
   "source": [
    "# Group sales by clients\n",
    "sales_per_client_df = sales_per_client_df.groupby(\"client_id\").sum()\n",
    "\n",
    "print(\"Top 5 clients:\")\n",
    "print(sales_per_client_df.nlargest(5, [\"sales\"]))\n",
    "print(\"\\n\")\n",
    "\n",
    "\"\"\"\n",
    "With the df grouped by clients, we could define who where our five best clients in the last period,\n",
    "this information could be used for a marketing campaign as we could award them to be great clients.\n",
    "\"\"\""
   ]
  },
  {
   "cell_type": "code",
   "execution_count": null,
   "id": "61486ae6-2592-4a4e-a1e7-1d84bd71fe14",
   "metadata": {},
   "outputs": [],
   "source": [
    "# create a new sales dataframe to calculate sales and quantity sold by order date\n",
    "sales_per_date_df = sales_df[[\"order_date\", \"quantity\"]]\n",
    "sales_per_date_df[\"sales\"] = sales_df.quantity * sales_df.unit_price"
   ]
  },
  {
   "cell_type": "code",
   "execution_count": null,
   "id": "7a61a910-96ee-4784-8f68-decbfd56b2ec",
   "metadata": {},
   "outputs": [],
   "source": [
    "# Group sales by order date\n",
    "sales_per_date_df = sales_per_date_df.groupby(\"order_date\").sum()\n",
    "\n",
    "print(\"The 5 days we sold more:\")\n",
    "print(sales_per_date_df.nlargest(5, [\"sales\"]))\n",
    "print(\"\\n\")\n",
    "\n",
    "\"\"\"\n",
    "With the df grouped by order dates, we could define where was the days we sold more,\n",
    "and so, try to reproduce what gets done in the stores in those days, to enable a better average selling operation.\n",
    "\"\"\""
   ]
  }
 ],
 "metadata": {
  "kernelspec": {
   "display_name": "Python 3 (ipykernel)",
   "language": "python",
   "name": "python3"
  },
  "language_info": {
   "codemirror_mode": {
    "name": "ipython",
    "version": 3
   },
   "file_extension": ".py",
   "mimetype": "text/x-python",
   "name": "python",
   "nbconvert_exporter": "python",
   "pygments_lexer": "ipython3",
   "version": "3.11.7"
  }
 },
 "nbformat": 4,
 "nbformat_minor": 5
}
